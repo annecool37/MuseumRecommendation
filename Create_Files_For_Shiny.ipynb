{
 "cells": [
  {
   "cell_type": "code",
   "execution_count": 1,
   "metadata": {
    "collapsed": true
   },
   "outputs": [],
   "source": [
    "import pandas as pd\n",
    "import numpy as np\n",
    "import json"
   ]
  },
  {
   "cell_type": "code",
   "execution_count": 2,
   "metadata": {
    "collapsed": true
   },
   "outputs": [],
   "source": [
    "def read_json(filename):\n",
    "    '''read json file'''\n",
    "    return json.loads(open(filename).read()) "
   ]
  },
  {
   "cell_type": "code",
   "execution_count": 3,
   "metadata": {
    "collapsed": true
   },
   "outputs": [],
   "source": [
    "def append_two_dict(dict1, dict2):\n",
    "    '''append two dictionaries based on keys'''\n",
    "    new_dict = dict1\n",
    "    for key, val in dict2.items():\n",
    "        if key not in dict1.keys():\n",
    "            new_dict[key] = val\n",
    "    return new_dict"
   ]
  },
  {
   "cell_type": "code",
   "execution_count": 4,
   "metadata": {
    "collapsed": true
   },
   "outputs": [],
   "source": [
    "def unicode_to_ascii(lst):\n",
    "    '''convert unicode to ascii'''\n",
    "    # avoid raising errors later on while writing data into csv files\n",
    "    return [item.encode('ascii', 'ignore') for item in lst]"
   ]
  },
  {
   "cell_type": "code",
   "execution_count": 5,
   "metadata": {
    "collapsed": true
   },
   "outputs": [],
   "source": [
    "def dic_str_to_num(dic):\n",
    "    '''convert list of strings in a dictionary into numbers'''\n",
    "    new_dic = {}\n",
    "    for key, val_lst in dic.items():\n",
    "        new_dic[key] = [int(x.replace(',', '')) for x in val_lst]\n",
    "    return new_dic"
   ]
  },
  {
   "cell_type": "code",
   "execution_count": 7,
   "metadata": {
    "collapsed": true
   },
   "outputs": [],
   "source": [
    "def encode_whole_dictionary(dic):\n",
    "    '''convert whole dictionaty from unicode to ascii'''\n",
    "    keys = dic.keys()\n",
    "    values = dic.values()\n",
    "    encode_key = unicode_to_ascii(keys)\n",
    "    encode_val = [unicode_to_ascii(val) for val in values]\n",
    "    \n",
    "    # create new dictionary with encoded kay and values\n",
    "    new_dic ={}\n",
    "    for i in range(len(encode_key)):\n",
    "        new_dic[encode_key[i]] = encode_val[i]\n",
    "\n",
    "    return new_dic"
   ]
  },
  {
   "cell_type": "code",
   "execution_count": 22,
   "metadata": {
    "collapsed": true
   },
   "outputs": [],
   "source": [
    "def write_json(name, dic):\n",
    "    '''write dictionary to json file'''\n",
    "    filename = name + '.json'\n",
    "    with open(filename, 'w') as f:\n",
    "        json.dump(dic, f)"
   ]
  },
  {
   "cell_type": "code",
   "execution_count": 26,
   "metadata": {
    "collapsed": true
   },
   "outputs": [],
   "source": [
    "def get_tag_cloud_lst(tag_cloud):\n",
    "    '''get tag cloud list: [(tag name, its frequency)]'''\n",
    "    tag_cloud_lst = reduce(lambda x,y: x + y, tag_cloud.values(),[])\n",
    "    freq_dic = {}\n",
    "    for i in tag_cloud_lst:\n",
    "        if i not in freq_dic.keys(): \n",
    "            freq_dic[i] = 1\n",
    "        else:\n",
    "            freq_dic[i] +=1\n",
    "    tag_freq_lst = freq_dic.items()\n",
    "    tag_freq_lst.sort(key = lambda x: x[1], reverse=True)\n",
    "    return tag_freq_lst"
   ]
  },
  {
   "cell_type": "code",
   "execution_count": 32,
   "metadata": {
    "collapsed": false
   },
   "outputs": [],
   "source": [
    "def reverse_dic(target, original_dic):\n",
    "    '''reverse a key-value dictionary to a value-key one'''\n",
    "    dic = {}\n",
    "    for i in target:\n",
    "        dic[i] = []\n",
    "    for name, item_lst in original_dic.items():\n",
    "        for item in item_lst:\n",
    "            if item in target:\n",
    "                dic[item] += [name]\n",
    "    return dic"
   ]
  },
  {
   "cell_type": "code",
   "execution_count": 8,
   "metadata": {
    "collapsed": false
   },
   "outputs": [],
   "source": [
    "us_category = read_json('./Data/museum_categories_USonly.json')\n",
    "us_tag_cloud = read_json('./Data/tag_clouds_USonly.json')\n",
    "us_traveler_type = read_json('./Data/traverler_type_USonly.json')\n",
    "\n",
    "w_category = read_json('./Data/museum_categories_world.json')\n",
    "w_tag_cloud = read_json('./Data/tag_clouds_world.json')\n",
    "w_traveler_type = read_json('./Data/traverler_type_world.json')\n",
    "\n",
    "category = append_two_dict(us_category, w_category)\n",
    "tag_cloud = append_two_dict(us_tag_cloud, w_tag_cloud)\n",
    "traveler_type = append_two_dict(us_traveler_type, w_traveler_type)\n",
    "\n",
    "# convert all dictionaries from unicode to ascii\n",
    "category = encode_whole_dictionary(category)\n",
    "tag_cloud = encode_whole_dictionary(tag_cloud)\n",
    "traveler_type = encode_whole_dictionary(traveler_type)\n",
    "\n",
    "# convert strings in dictionary to number\n",
    "traveler_type = dic_str_to_num(traveler_type)"
   ]
  },
  {
   "cell_type": "code",
   "execution_count": 15,
   "metadata": {
    "collapsed": false
   },
   "outputs": [
    {
     "data": {
      "text/plain": [
       "['History Museums',\n",
       " 'Military Museums',\n",
       " 'Points of Interest & Landmarks',\n",
       " 'Natural History Museums',\n",
       " 'Art Museums',\n",
       " 'Historic Sites',\n",
       " 'Science Museums',\n",
       " 'Museums',\n",
       " 'Specialty Museums',\n",
       " 'Art Galleries',\n",
       " \"Children's Museums\",\n",
       " 'Sights & Landmarks']"
      ]
     },
     "execution_count": 15,
     "metadata": {},
     "output_type": "execute_result"
    }
   ],
   "source": [
    "category_lst = reduce(lambda x,y: x + y, category.values(),[])\n",
    "target_category = [i for i in set(category_lst) if 'Museum' in i \\\n",
    "                   or 'Galleries' in i or 'Historic Sites' in i or 'Landmarks' in i]\n",
    "target_category"
   ]
  },
  {
   "cell_type": "code",
   "execution_count": 34,
   "metadata": {
    "collapsed": false
   },
   "outputs": [],
   "source": [
    "dic_cat = reverse_dic(target_category, category)\n",
    "write_json('museum_types', dic_cat)"
   ]
  },
  {
   "cell_type": "code",
   "execution_count": 51,
   "metadata": {
    "collapsed": false
   },
   "outputs": [
    {
     "data": {
      "text/plain": [
       "[('on display', 751),\n",
       " ('gift shop', 405),\n",
       " ('rainy day', 281),\n",
       " ('all ages', 275),\n",
       " ('couple of hours', 268),\n",
       " ('special exhibits', 188),\n",
       " ('few hours', 167),\n",
       " ('permanent collection', 162),\n",
       " ('two hours', 158),\n",
       " ('exhibits', 155),\n",
       " ('worth a visit', 154),\n",
       " ('free admission', 151),\n",
       " ('beautiful building', 136),\n",
       " ('audio guide', 135),\n",
       " ('well worth a visit', 130),\n",
       " ('great collection', 125),\n",
       " ('information', 117),\n",
       " ('interactive exhibits', 112),\n",
       " ('great for kids', 111),\n",
       " ('hands on activities', 111),\n",
       " ('interesting exhibits', 109),\n",
       " ('great exhibits', 108),\n",
       " ('entrance fee', 104),\n",
       " ('great place to visit', 100),\n",
       " ('well worth the visit', 85),\n",
       " ('guided tour', 81),\n",
       " ('amazing collection', 81),\n",
       " ('traveling exhibits', 79),\n",
       " ('interactive displays', 79),\n",
       " ('whole family', 78),\n",
       " ('kids and adults', 77),\n",
       " ('his life', 75),\n",
       " ('worth the trip', 73),\n",
       " ('local history', 73),\n",
       " ('nice collection', 72),\n",
       " ('great history', 70),\n",
       " ('civil war', 70),\n",
       " ('free entry', 67),\n",
       " ('interesting place', 67),\n",
       " ('take your time', 62),\n",
       " ('artifacts', 62),\n",
       " ('audio tour', 60),\n",
       " ('self guided tour', 60),\n",
       " ('great museum', 59),\n",
       " ('for sale', 59),\n",
       " ('van gogh', 58),\n",
       " ('natural history', 57),\n",
       " ('works of art', 56),\n",
       " ('galleries', 56),\n",
       " ('history', 55)]"
      ]
     },
     "execution_count": 51,
     "metadata": {},
     "output_type": "execute_result"
    }
   ],
   "source": [
    "tag_freq_lst = get_tag_cloud_lst(tag_cloud)\n",
    "target_tags = tag_freq_lst[0:50]\n",
    "target_tags"
   ]
  },
  {
   "cell_type": "code",
   "execution_count": 52,
   "metadata": {
    "collapsed": false
   },
   "outputs": [],
   "source": [
    "tag_of_interest = ['gift shop', 'rainy day', 'all ages', 'beautiful building', \n",
    "                   'audio guide', 'great for kids', 'guided tour',\n",
    "                   'interactive exhibits', 'interactive displays', 'modern art']\n",
    "dic_tag = reverse_dic(tag_of_interest, tag_cloud)\n",
    "dic_tag['interactive'] = list(set(dic_tag['interactive exhibits'] + dic_tag['interactive displays']))\n",
    "# remove two key-value pairs since they have combined into 'interactive'\n",
    "dic_tag.pop('interactive exhibits') \n",
    "dic_tag.pop('interactive displays')\n",
    "write_json('museum_tags', dic_tag)"
   ]
  },
  {
   "cell_type": "code",
   "execution_count": null,
   "metadata": {
    "collapsed": true
   },
   "outputs": [],
   "source": []
  },
  {
   "cell_type": "code",
   "execution_count": null,
   "metadata": {
    "collapsed": true
   },
   "outputs": [],
   "source": []
  },
  {
   "cell_type": "code",
   "execution_count": null,
   "metadata": {
    "collapsed": true
   },
   "outputs": [],
   "source": []
  },
  {
   "cell_type": "code",
   "execution_count": null,
   "metadata": {
    "collapsed": true
   },
   "outputs": [],
   "source": []
  }
 ],
 "metadata": {
  "kernelspec": {
   "display_name": "Python [Root]",
   "language": "python",
   "name": "Python [Root]"
  },
  "language_info": {
   "codemirror_mode": {
    "name": "ipython",
    "version": 2
   },
   "file_extension": ".py",
   "mimetype": "text/x-python",
   "name": "python",
   "nbconvert_exporter": "python",
   "pygments_lexer": "ipython2",
   "version": "2.7.12"
  }
 },
 "nbformat": 4,
 "nbformat_minor": 0
}
