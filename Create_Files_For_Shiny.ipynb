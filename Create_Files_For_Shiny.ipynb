{
 "cells": [
  {
   "cell_type": "markdown",
   "metadata": {},
   "source": [
    "### Create json Files for Shiny App in R\n",
    "Anne Chen  \n",
    "2016"
   ]
  },
  {
   "cell_type": "markdown",
   "metadata": {},
   "source": [
    "### Import Modules"
   ]
  },
  {
   "cell_type": "code",
   "execution_count": 1,
   "metadata": {
    "collapsed": true
   },
   "outputs": [],
   "source": [
    "import pandas as pd\n",
    "import numpy as np\n",
    "import json"
   ]
  },
  {
   "cell_type": "markdown",
   "metadata": {},
   "source": [
    "### Define Functions"
   ]
  },
  {
   "cell_type": "code",
   "execution_count": 2,
   "metadata": {
    "collapsed": true
   },
   "outputs": [],
   "source": [
    "def read_json(filename):\n",
    "    '''read json file'''\n",
    "    return json.loads(open(filename).read()) \n",
    "\n",
    "def append_two_dict(dict1, dict2):\n",
    "    '''append two dictionaries based on keys'''\n",
    "    new_dict = dict1\n",
    "    for key, val in dict2.items():\n",
    "        if key not in dict1.keys():\n",
    "            new_dict[key] = val\n",
    "    return new_dict\n",
    "\n",
    "def unicode_to_ascii(lst):\n",
    "    '''convert unicode to ascii'''\n",
    "    # avoid raising errors later on while writing data into csv files\n",
    "    return [item.encode('ascii', 'ignore') for item in lst]\n",
    "\n",
    "def dic_str_to_num(dic):\n",
    "    '''convert list of strings in a dictionary into numbers'''\n",
    "    new_dic = {}\n",
    "    for key, val_lst in dic.items():\n",
    "        new_dic[key] = [int(x.replace(',', '')) for x in val_lst]\n",
    "    return new_dic\n",
    "\n",
    "def encode_whole_dictionary(dic):\n",
    "    '''convert whole dictionaty from unicode to ascii'''\n",
    "    keys = dic.keys()\n",
    "    values = dic.values()\n",
    "    encode_key = unicode_to_ascii(keys)\n",
    "    encode_val = [unicode_to_ascii(val) for val in values]\n",
    "    \n",
    "    # create new dictionary with encoded kay and values\n",
    "    new_dic ={}\n",
    "    for i in range(len(encode_key)):\n",
    "        new_dic[encode_key[i]] = encode_val[i]\n",
    "\n",
    "    return new_dic\n",
    "\n",
    "def write_json(name, dic):\n",
    "    '''write dictionary to json file'''\n",
    "    filename = name + '.json'\n",
    "    with open(filename, 'w') as f:\n",
    "        json.dump(dic, f)\n",
    "\n",
    "def get_tag_cloud_lst(tag_cloud):\n",
    "    '''get tag cloud list: [(tag name, its frequency)]'''\n",
    "    tag_cloud_lst = reduce(lambda x,y: x + y, tag_cloud.values(),[])\n",
    "    freq_dic = {}\n",
    "    for i in tag_cloud_lst:\n",
    "        if i not in freq_dic.keys(): \n",
    "            freq_dic[i] = 1\n",
    "        else:\n",
    "            freq_dic[i] +=1\n",
    "    tag_freq_lst = freq_dic.items()\n",
    "    tag_freq_lst.sort(key = lambda x: x[1], reverse=True)\n",
    "    return tag_freq_lst\n",
    "\n",
    "def reverse_dic(target, original_dic):\n",
    "    '''reverse a key-value dictionary to a value-key one'''\n",
    "    dic = {}\n",
    "    for i in target:\n",
    "        dic[i] = []\n",
    "    for name, item_lst in original_dic.items():\n",
    "        for item in item_lst:\n",
    "            if item in target:\n",
    "                dic[item] += [name]\n",
    "    return dic\n",
    "\n",
    "def encode_dict_val(dic):\n",
    "    '''convert whole dictionaty from unicode to ascii'''\n",
    "    keys = dic.keys()\n",
    "    values = dic.values()\n",
    "    encode_key = unicode_to_ascii(keys)\n",
    "    # create new dictionary with encoded kay and values\n",
    "    new_dic ={}\n",
    "    for i in range(len(encode_key)):\n",
    "        new_dic[encode_key[i]] = values[i]\n",
    "    return new_dic"
   ]
  },
  {
   "cell_type": "markdown",
   "metadata": {},
   "source": [
    "### Read and Merge json Files"
   ]
  },
  {
   "cell_type": "code",
   "execution_count": 3,
   "metadata": {
    "collapsed": false
   },
   "outputs": [],
   "source": [
    "us_category = read_json('./Data/museum_categories_USonly.json')\n",
    "us_tag_cloud = read_json('./Data/tag_clouds_USonly.json')\n",
    "us_traveler_type = read_json('./Data/traverler_type_USonly.json')\n",
    "us_img_link = read_json('./Data/img_links_USonly.json')\n",
    "\n",
    "w_category = read_json('./Data/museum_categories_world.json')\n",
    "w_tag_cloud = read_json('./Data/tag_clouds_world.json')\n",
    "w_traveler_type = read_json('./Data/traverler_type_world.json')\n",
    "w_img_link = read_json('./Data/img_links_world.json')\n",
    "\n",
    "category = append_two_dict(us_category, w_category)\n",
    "tag_cloud = append_two_dict(us_tag_cloud, w_tag_cloud)\n",
    "traveler_type = append_two_dict(us_traveler_type, w_traveler_type)\n",
    "img_link = append_two_dict(us_img_link, w_img_link)\n",
    "\n",
    "# convert all dictionaries from unicode to ascii\n",
    "category = encode_whole_dictionary(category)\n",
    "tag_cloud = encode_whole_dictionary(tag_cloud)\n",
    "traveler_type = encode_whole_dictionary(traveler_type)\n",
    "img_link = encode_dict_val(img_link)\n",
    "\n",
    "# convert strings in dictionary to number\n",
    "traveler_type = dic_str_to_num(traveler_type)\n",
    "\n",
    "# write files\n",
    "write_json('./app/data/tags_cloud', tag_cloud)\n",
    "write_json('./app/data/museum_img_link', img_link)"
   ]
  },
  {
   "cell_type": "markdown",
   "metadata": {},
   "source": [
    "### Create json Files that Will be Needed in Building Shiny App"
   ]
  },
  {
   "cell_type": "code",
   "execution_count": 4,
   "metadata": {
    "collapsed": false
   },
   "outputs": [
    {
     "name": "stdout",
     "output_type": "stream",
     "text": [
      "['History Museums', 'Military Museums', 'Points of Interest & Landmarks', 'Natural History Museums', 'Art Museums', \"Children's Museums\", 'Historic Sites', 'Science Museums', 'Museums', 'Specialty Museums', 'Art Galleries', 'Sights & Landmarks']\n"
     ]
    }
   ],
   "source": [
    "### get target category\n",
    "category_lst = reduce(lambda x,y: x + y, category.values(),[])\n",
    "target_category = [i for i in set(category_lst) if 'Museum' in i \\\n",
    "                   or 'Galleries' in i or 'Historic Sites' in i or 'Landmarks' in i]\n",
    "print target_category\n",
    "dic_cat = reverse_dic(target_category, category)\n",
    "write_json('museum_types', dic_cat)"
   ]
  },
  {
   "cell_type": "code",
   "execution_count": 5,
   "metadata": {
    "collapsed": false
   },
   "outputs": [
    {
     "data": {
      "text/plain": [
       "[('on display', 792),\n",
       " ('gift shop', 415),\n",
       " ('rainy day', 300),\n",
       " ('couple of hours', 289),\n",
       " ('all ages', 287),\n",
       " ('special exhibits', 186),\n",
       " ('few hours', 180),\n",
       " ('two hours', 179),\n",
       " ('exhibits', 166),\n",
       " ('well worth a visit', 165),\n",
       " ('permanent collection', 164),\n",
       " ('worth a visit', 161),\n",
       " ('free admission', 154),\n",
       " ('audio guide', 153),\n",
       " ('beautiful building', 138),\n",
       " ('great collection', 129),\n",
       " ('information', 127),\n",
       " ('interesting exhibits', 127),\n",
       " ('entrance fee', 121),\n",
       " ('great for kids', 120),\n",
       " ('interactive exhibits', 117),\n",
       " ('hands on activities', 115),\n",
       " ('great exhibits', 110),\n",
       " ('great place to visit', 99),\n",
       " ('interactive displays', 94),\n",
       " ('guided tour', 92),\n",
       " ('well worth the visit', 91),\n",
       " ('whole family', 83),\n",
       " ('kids and adults', 83),\n",
       " ('traveling exhibits', 82),\n",
       " ('his life', 82),\n",
       " ('local history', 77),\n",
       " ('amazing collection', 77),\n",
       " ('free entry', 74),\n",
       " ('worth the trip', 74),\n",
       " ('great history', 73),\n",
       " ('civil war', 72),\n",
       " ('take your time', 71),\n",
       " ('nice collection', 70),\n",
       " ('interesting place', 66),\n",
       " ('great museum', 65),\n",
       " ('for sale', 64),\n",
       " ('art lovers', 64),\n",
       " ('artifacts', 64),\n",
       " ('van gogh', 63),\n",
       " ('audio tour', 61),\n",
       " ('history', 61),\n",
       " ('galleries', 60),\n",
       " ('works of art', 58),\n",
       " ('natural history', 58),\n",
       " ('self guided tour', 58),\n",
       " ('private collection', 56),\n",
       " ('own pace', 54),\n",
       " ('sculpture garden', 52),\n",
       " ('moving experience', 51),\n",
       " ('three hours', 50),\n",
       " ('lots of history', 47),\n",
       " ('modern art', 44),\n",
       " ('history buff', 44),\n",
       " ('admission', 43),\n",
       " ('small museum', 43),\n",
       " ('step back in time', 42),\n",
       " ('worth a stop', 41),\n",
       " ('short film', 41),\n",
       " ('stuffed animals', 40),\n",
       " ('walk around', 40),\n",
       " ('entry fee', 40),\n",
       " ('great displays', 39),\n",
       " ('world war', 39),\n",
       " ('scavenger hunt', 39),\n",
       " ('across the street', 39),\n",
       " ('museums', 38),\n",
       " ('top floor', 37),\n",
       " ('a lot of fun', 37),\n",
       " ('history lesson', 37),\n",
       " ('large collection', 37),\n",
       " ('eye opening', 37),\n",
       " ('american history', 36),\n",
       " ('interesting artifacts', 35),\n",
       " ('early days', 35),\n",
       " ('rotating exhibits', 35),\n",
       " ('extensive collection', 35),\n",
       " ('three floors', 35),\n",
       " ('we spent hours', 35),\n",
       " ('displays', 34),\n",
       " ('changing exhibits', 34),\n",
       " ('second floor', 34),\n",
       " ('collection', 34),\n",
       " ('old masters', 34),\n",
       " ('great place to learn', 33),\n",
       " ('learn something', 33),\n",
       " ('special exhibitions', 33),\n",
       " ('suggested donation', 33),\n",
       " ('old west', 33),\n",
       " ('chronological order', 33),\n",
       " ('enjoyed our visit', 32),\n",
       " ('take pictures', 32),\n",
       " ('third floor', 31),\n",
       " ('the lower level', 31),\n",
       " ('life size', 31)]"
      ]
     },
     "execution_count": 5,
     "metadata": {},
     "output_type": "execute_result"
    }
   ],
   "source": [
    "### get target tags\n",
    "tag_freq_lst = get_tag_cloud_lst(tag_cloud)\n",
    "target_tags = tag_freq_lst[0:100]\n",
    "target_tags"
   ]
  },
  {
   "cell_type": "code",
   "execution_count": 7,
   "metadata": {
    "collapsed": false
   },
   "outputs": [],
   "source": [
    "### turn tag_freq_lst into dictionary and save it as a json file \n",
    "tag_count_dic ={}\n",
    "for t in tag_freq_lst:\n",
    "    tag_count_dic[t[0]] = t[1]\n",
    "# tag_count_dic\n",
    "write_json('./app/data/tag_counts', tag_count_dic)"
   ]
  },
  {
   "cell_type": "code",
   "execution_count": 8,
   "metadata": {
    "collapsed": false
   },
   "outputs": [],
   "source": [
    "### generate a dictionary with musuem names (value) having tags of interest (key)\n",
    "tag_of_interest = ['gift shop', 'rainy day', 'all ages', 'beautiful building', \n",
    "                   'audio guide', 'great for kids', 'guided tour',\n",
    "                   'interactive exhibits', 'interactive displays', 'modern art']\n",
    "dic_tag = reverse_dic(tag_of_interest, tag_cloud)\n",
    "dic_tag['interactive'] = list(set(dic_tag['interactive exhibits'] + dic_tag['interactive displays']))\n",
    "# remove two key-value pairs since they have combined into 'interactive'\n",
    "dic_tag.pop('interactive exhibits') \n",
    "dic_tag.pop('interactive displays')\n",
    "write_json('museum_tags', dic_tag)"
   ]
  },
  {
   "cell_type": "code",
   "execution_count": 9,
   "metadata": {
    "collapsed": false
   },
   "outputs": [],
   "source": [
    "### remove 'Museums' from the value and save it as clean_category.json\n",
    "clean_category = {}\n",
    "for k,v in category.items():\n",
    "    if 'Museums' in v:\n",
    "        v.pop(v.index('Museums'))\n",
    "    clean_category[k] = v\n",
    "# clean_category\n",
    "write_json('clean_category', clean_category)"
   ]
  }
 ],
 "metadata": {
  "kernelspec": {
   "display_name": "Python [Root]",
   "language": "python",
   "name": "Python [Root]"
  },
  "language_info": {
   "codemirror_mode": {
    "name": "ipython",
    "version": 2
   },
   "file_extension": ".py",
   "mimetype": "text/x-python",
   "name": "python",
   "nbconvert_exporter": "python",
   "pygments_lexer": "ipython2",
   "version": "2.7.12"
  }
 },
 "nbformat": 4,
 "nbformat_minor": 0
}
