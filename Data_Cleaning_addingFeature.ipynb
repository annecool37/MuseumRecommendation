{
 "cells": [
  {
   "cell_type": "markdown",
   "metadata": {
    "collapsed": true
   },
   "source": [
    "## Data Cleaning and Feature Engineering  \n",
    "Author: Anne Chen  \n",
    "2016"
   ]
  },
  {
   "cell_type": "markdown",
   "metadata": {},
   "source": [
    "### Import Modules"
   ]
  },
  {
   "cell_type": "code",
   "execution_count": 1,
   "metadata": {
    "collapsed": true
   },
   "outputs": [],
   "source": [
    "import pandas as pd\n",
    "import numpy as np\n",
    "import json\n",
    "import re\n",
    "import nltk\n",
    "from nltk import *\n",
    "from textblob import TextBlob\n",
    "# NOTE:\n",
    "# if this is the first time a user is using nltk\n",
    "# he/she must run the following code: nltk.download('all')"
   ]
  },
  {
   "cell_type": "markdown",
   "metadata": {},
   "source": [
    "### Functions\n",
    "- Define Utility Functions"
   ]
  },
  {
   "cell_type": "code",
   "execution_count": 2,
   "metadata": {
    "collapsed": true
   },
   "outputs": [],
   "source": [
    "def read_json(filename):\n",
    "    '''read json file'''\n",
    "    return json.loads(open(filename).read()) "
   ]
  },
  {
   "cell_type": "code",
   "execution_count": 3,
   "metadata": {
    "collapsed": true
   },
   "outputs": [],
   "source": [
    "def drop_first_column(us_museum, w_museum):\n",
    "    '''drop the first column'''\n",
    "    if us_museum.columns.values[0] != 'Address':\n",
    "        us_museum = us_museum.drop(us_museum.columns[0], axis = 1)\n",
    "        w_museum = w_museum.drop(w_museum.columns[0], axis = 1)\n",
    "    return us_museum, w_museum"
   ]
  },
  {
   "cell_type": "code",
   "execution_count": 4,
   "metadata": {
    "collapsed": true
   },
   "outputs": [],
   "source": [
    "def merge_usa_world(us_museum, w_museum):    \n",
    "    '''merge us and world dataframe'''\n",
    "    merged_df = pd.merge(us_museum, w_museum, how='outer')\n",
    "    merged_df = merged_df.drop_duplicates('MuseumName')\n",
    "    return merged_df"
   ]
  },
  {
   "cell_type": "code",
   "execution_count": 47,
   "metadata": {
    "collapsed": true
   },
   "outputs": [],
   "source": [
    "def fix_fee_value(df):\n",
    "    '''fix the fee value and replace yes/no with none in column \"LengthOfVisit\" '''    \n",
    "    idx_no = np.where(df['LengthOfVisit'] == 'No ')[0].tolist()\n",
    "    idx_yes = np.where(df['LengthOfVisit'] == 'Yes ')[0].tolist()\n",
    "    df1 = df.copy(deep=True)\n",
    "    for idx in idx_no:\n",
    "        df1.loc[idx,'LengthOfVisit'] = None\n",
    "        df1.loc[idx,'Fee'] = 'No '\n",
    "    for idx in idx_yes:\n",
    "        df1.loc[idx,'LengthOfVisit'] = None\n",
    "        df1.loc[idx,'Fee'] = 'Yes '\n",
    "    df = df1.copy(deep = True)\n",
    "    return df"
   ]
  },
  {
   "cell_type": "code",
   "execution_count": 14,
   "metadata": {
    "collapsed": false
   },
   "outputs": [],
   "source": [
    "def string_to_num(df, column_name_lst):\n",
    "    '''convert string in to number, e.g. 1,354 --> 1345'''\n",
    "    for col_name in column_name_lst:\n",
    "        df[col_name] = df[col_name].apply(lambda x: int(x.replace(',', '')))\n",
    "    return df"
   ]
  },
  {
   "cell_type": "code",
   "execution_count": 15,
   "metadata": {
    "collapsed": false
   },
   "outputs": [],
   "source": [
    "def append_two_dict(dict1, dict2):\n",
    "    '''append two dictionaries based on keys'''\n",
    "    new_dict = dict1\n",
    "    for key, val in dict2.items():\n",
    "        if key not in dict1.keys():\n",
    "            new_dict[key] = val\n",
    "    return new_dict"
   ]
  },
  {
   "cell_type": "code",
   "execution_count": 16,
   "metadata": {
    "collapsed": true
   },
   "outputs": [],
   "source": [
    "def assign_0_or_1(df, target, dic):\n",
    "    '''assign value as 1 if the values of the dictionary in the musuem match the target'''\n",
    "    df = df.copy(deep=True)\n",
    "    # initialize column with 0\n",
    "    for sub_item in target:\n",
    "        df[sub_item] = 0\n",
    "\n",
    "    for museum_name, value in dic.items():\n",
    "        # get index\n",
    "        idx = df[df['MuseumName'] == museum_name].index.tolist()[0]\n",
    "\n",
    "        for sub_item in target:\n",
    "            if sub_item in value:\n",
    "                df.loc[idx, sub_item] = 1  \n",
    "    return df"
   ]
  },
  {
   "cell_type": "code",
   "execution_count": 20,
   "metadata": {
    "collapsed": true
   },
   "outputs": [],
   "source": [
    "def unicode_to_ascii(lst):\n",
    "    '''convert unicode to ascii'''\n",
    "    # avoid raising errors later on while writing data into csv files\n",
    "    return [item.encode('ascii', 'ignore') for item in lst]"
   ]
  },
  {
   "cell_type": "code",
   "execution_count": 21,
   "metadata": {
    "collapsed": false
   },
   "outputs": [],
   "source": [
    "def encode_whole_dictionary(dic):\n",
    "    '''convert whole dictionaty from unicode to ascii'''\n",
    "    keys = dic.keys()\n",
    "    values = dic.values()\n",
    "    encode_key = unicode_to_ascii(keys)\n",
    "    encode_val = [unicode_to_ascii(val) for val in values]\n",
    "    \n",
    "    # create new dictionary with encoded kay and values\n",
    "    new_dic ={}\n",
    "    for i in range(len(encode_key)):\n",
    "        new_dic[encode_key[i]] = encode_val[i]\n",
    "\n",
    "    return new_dic"
   ]
  },
  {
   "cell_type": "code",
   "execution_count": 27,
   "metadata": {
    "collapsed": true
   },
   "outputs": [],
   "source": [
    "def clean_dic(dic):\n",
    "    '''clean the dictionary by removing the key-value pair with NaN'''\n",
    "    return {k: dic[k] for k in dic if not isinstance(k, float)}"
   ]
  },
  {
   "cell_type": "code",
   "execution_count": 29,
   "metadata": {
    "collapsed": true
   },
   "outputs": [],
   "source": [
    "def dic_str_to_num(dic):\n",
    "    '''convert list of strings in a dictionary into numbers'''\n",
    "    new_dic = {}\n",
    "    for key, val_lst in dic.items():\n",
    "        new_dic[key] = [int(x.replace(',', '')) for x in val_lst]\n",
    "    return new_dic"
   ]
  },
  {
   "cell_type": "markdown",
   "metadata": {},
   "source": [
    "- Define Feature Engineering Related Functions"
   ]
  },
  {
   "cell_type": "code",
   "execution_count": 5,
   "metadata": {
    "collapsed": false
   },
   "outputs": [],
   "source": [
    "def add_country_state(df, state_name_lst):\n",
    "    '''add new feature Country: USA or Other'''\n",
    "    df['Country'] = 'Other'\n",
    "    df['State'] = 'Not_in_USA'\n",
    "    for idx, address in enumerate(df['Address']):\n",
    "        try:\n",
    "            state = address.split(',')[-1].split()[0]\n",
    "            if state in state_name_lst:\n",
    "                df.loc[idx,'Country'] = 'USA'\n",
    "                df.loc[idx,'State'] = state\n",
    "        except:\n",
    "            pass"
   ]
  },
  {
   "cell_type": "code",
   "execution_count": 17,
   "metadata": {
    "collapsed": false
   },
   "outputs": [],
   "source": [
    "def add_category_feature(df, category):\n",
    "    '''add several museum type as new features'''\n",
    "    category_lst = reduce(lambda x,y: x + y, category.values(),[])\n",
    "    target_category = [i for i in set(category_lst) if 'Museum' in i \\\n",
    "                       or 'Galleries' in i or 'Historic Sites' in i or 'Landmarks' in i]\n",
    "    # print target_category\n",
    "    df = assign_0_or_1(df, target_category, category)    \n",
    "    return df"
   ]
  },
  {
   "cell_type": "code",
   "execution_count": 18,
   "metadata": {
    "collapsed": false
   },
   "outputs": [],
   "source": [
    "def get_tag_cloud_lst(tag_cloud):\n",
    "    '''get tag cloud list: [(tag name, its frequency)]'''\n",
    "    tag_cloud_lst = reduce(lambda x,y: x + y, tag_cloud.values(),[])\n",
    "    freq_dic = {}\n",
    "    for i in tag_cloud_lst:\n",
    "        if i not in freq_dic.keys(): \n",
    "            freq_dic[i] = 1\n",
    "        else:\n",
    "            freq_dic[i] +=1\n",
    "    tag_freq_lst = freq_dic.items()\n",
    "    tag_freq_lst.sort(key = lambda x: x[1], reverse=True)\n",
    "    return tag_freq_lst"
   ]
  },
  {
   "cell_type": "code",
   "execution_count": 19,
   "metadata": {
    "collapsed": true
   },
   "outputs": [],
   "source": [
    "def add_tags_feature(df, tag_cloud):\n",
    "    '''add top 30 tags as features'''\n",
    "    tag_freq_lst = get_tag_cloud_lst(tag_cloud)\n",
    "    target_tags = map(lambda x: x[0], tag_freq_lst[0:30])\n",
    "    df = assign_0_or_1(df, target_tags, tag_cloud)    \n",
    "    return df    "
   ]
  },
  {
   "cell_type": "code",
   "execution_count": 22,
   "metadata": {
    "collapsed": false
   },
   "outputs": [],
   "source": [
    "def add_traveler_type_count(df):\n",
    "    '''add review count for each traveler type as new feature'''\n",
    "    df = df.copy(deep=True)\n",
    "    type_of_traveler = ['Families_Count', 'Couples_Count', 'Solo_Count', 'Business_Count', 'Friends_Count']\n",
    "    for idx, item in enumerate(type_of_traveler):    \n",
    "        for museum_name, value in traveler_type.items():\n",
    "            # get index\n",
    "            row_idx = df[df['MuseumName'] == museum_name].index.tolist()[0]\n",
    "            # assign review count for this traveler type \n",
    "            df.loc[row_idx, item] = traveler_type[museum_name][idx]\n",
    "    return df"
   ]
  },
  {
   "cell_type": "code",
   "execution_count": 23,
   "metadata": {
    "collapsed": false
   },
   "outputs": [],
   "source": [
    "def create_description_dic(df):\n",
    "    '''create dictionary --> {museum name: museum description}'''\n",
    "    description_dic = {}\n",
    "    for i in df.index:\n",
    "        description_dic[df['MuseumName'][i]] = df['Description'][i]\n",
    "    return description_dic"
   ]
  },
  {
   "cell_type": "code",
   "execution_count": 24,
   "metadata": {
    "collapsed": false
   },
   "outputs": [],
   "source": [
    "def get_nested_sentiment(dic):\n",
    "    '''get polarity and subjectivity score for each text in nested list'''\n",
    "    polarity_dic = {}\n",
    "    subjectivity_dic = {}\n",
    "    for museum_name, lst in dic.items():\n",
    "        polarity_lst = []\n",
    "        subjectivity_lst = []\n",
    "        for sentence in lst:\n",
    "            blob = TextBlob(sentence)\n",
    "            polarity_lst.append(blob.sentiment.polarity)\n",
    "            subjectivity_lst.append(blob.sentiment.subjectivity)\n",
    "        polarity_dic[museum_name] = polarity_lst\n",
    "        subjectivity_dic[museum_name] = subjectivity_lst\n",
    "    return polarity_dic, subjectivity_dic"
   ]
  },
  {
   "cell_type": "code",
   "execution_count": 25,
   "metadata": {
    "collapsed": false
   },
   "outputs": [],
   "source": [
    "def get_text_sentiment(dic):\n",
    "    '''get polarity and subjectivity score for text passing in'''\n",
    "    polarity_dic = {}\n",
    "    subjectivity_dic = {}\n",
    "    for museum_name, text in dic.items():\n",
    "        try:\n",
    "            blob = TextBlob(text)\n",
    "            polarity_dic[museum_name] = blob.sentiment.polarity\n",
    "            subjectivity_dic[museum_name] = blob.sentiment.subjectivity\n",
    "        except:\n",
    "            polarity_dic[museum_name] = float('NaN')\n",
    "            subjectivity_dic[museum_name] = float('NaN')\n",
    "    return polarity_dic, subjectivity_dic"
   ]
  },
  {
   "cell_type": "code",
   "execution_count": 26,
   "metadata": {
    "collapsed": true
   },
   "outputs": [],
   "source": [
    "def add_multiple_score_feature(df, header, dic):\n",
    "    '''add max, min, mean, and var of sentiment scores as new features'''\n",
    "    df = df.copy(deep=True)   \n",
    "    colnames = [header+'var', header+'mean', header+'max', header+'min']\n",
    "    for museum_name, score_lst in dic.items():\n",
    "        # get index\n",
    "        row_idx = df[df['MuseumName'] == museum_name].index.tolist()[0]\n",
    "        # create new features for scores: max, min, mean, and var of score_lst\n",
    "        df.loc[row_idx, colnames[0]] = np.var(score_lst)\n",
    "        df.loc[row_idx, colnames[1]] = np.mean(score_lst)\n",
    "        df.loc[row_idx, colnames[2]] = max(score_lst)\n",
    "        df.loc[row_idx, colnames[3]] = min(score_lst)\n",
    "    return df"
   ]
  },
  {
   "cell_type": "code",
   "execution_count": 28,
   "metadata": {
    "collapsed": true
   },
   "outputs": [],
   "source": [
    "def add_one_feature(df, colname, dic):\n",
    "    '''add the value in dic as new feature to df with colname as new column name'''\n",
    "    df = df.copy(deep=True) \n",
    "    for museum_name, value in dic.items():\n",
    "        # get index\n",
    "        row_idx = df[df['MuseumName'] == museum_name].index.tolist()[0]\n",
    "        # assign score\n",
    "        df.loc[row_idx, colname] = value\n",
    "    return df"
   ]
  },
  {
   "cell_type": "code",
   "execution_count": 30,
   "metadata": {
    "collapsed": true
   },
   "outputs": [],
   "source": [
    "def get_precise_rating(df, traveler_rating):\n",
    "    '''create a dictionary with precise rating score'''\n",
    "    precise_rating = {}\n",
    "    for museum_name, rating_lst in traveler_rating.items():\n",
    "        # if the rating list is [13, 10, 3, 4, 2]\n",
    "        # then the rating sum is 13*5 + 10*4 + 3*3 + 4*2 + 2*1\n",
    "        rating_sum = reduce(lambda x,y: x+y , [int(val)*(5-idx) for idx, val in enumerate(rating_lst)])\n",
    "        # get review count of the museum\n",
    "        review_count = merged_df.loc[df[df['MuseumName'] == museum_name].index.tolist()[0], 'ReviewCount']\n",
    "        # calculate precise rating\n",
    "        precise_rating[museum_name] = rating_sum/review_count\n",
    "    return precise_rating"
   ]
  },
  {
   "cell_type": "markdown",
   "metadata": {},
   "source": [
    "### Read Data "
   ]
  },
  {
   "cell_type": "code",
   "execution_count": 31,
   "metadata": {
    "collapsed": false
   },
   "outputs": [],
   "source": [
    "# read musuem data (.csv)\n",
    "# usa\n",
    "us_museum = pd.read_csv(\"./Data/tripadvisor_museum_USonly.csv\")\n",
    "us_category = read_json('./Data/museum_categories_USonly.json')\n",
    "us_review = read_json('./Data/review_content_USonly.json')\n",
    "us_quote = read_json('./Data/review_quote_USonly.json')\n",
    "us_tag_cloud = read_json('./Data/tag_clouds_USonly.json')\n",
    "us_traveler_type = read_json('./Data/traverler_type_USonly.json')\n",
    "us_traveler_rating = read_json('./Data/traverler_rating_USonly.json')\n",
    "\n",
    "# world\n",
    "w_museum = pd.read_csv(\"./Data/tripadvisor_museum_world.csv\")\n",
    "w_category = read_json('./Data/museum_categories_world.json')\n",
    "w_review = read_json('./Data/review_content_world.json')\n",
    "w_quote = read_json('./Data/review_quote_world.json')\n",
    "w_tag_cloud = read_json('./Data/tag_clouds_world.json')\n",
    "w_traveler_type = read_json('./Data/traverler_type_world.json')\n",
    "w_traveler_rating = read_json('./Data/traverler_rating_world.json')\n",
    "\n",
    "# read USA state full/abbr name\n",
    "state_name = pd.read_csv(\"./Data/states.csv\")\n",
    "state_name_lst = state_name['Abbreviation'].tolist()"
   ]
  },
  {
   "cell_type": "code",
   "execution_count": 32,
   "metadata": {
    "collapsed": false
   },
   "outputs": [
    {
     "data": {
      "text/plain": [
       "array(['Unnamed: 0', 'Address', 'Description', 'FeatureCount', 'Fee',\n",
       "       'Langtitude', 'Latitude', 'LengthOfVisit', 'MuseumName', 'PhoneNum',\n",
       "       'Rank', 'Rating', 'ReviewCount', 'TotalThingsToDo'], dtype=object)"
      ]
     },
     "execution_count": 32,
     "metadata": {},
     "output_type": "execute_result"
    }
   ],
   "source": [
    "us_museum.columns.values \n",
    "# an unknown first column is in the dataframe\n",
    "# thus we drop the first column later on"
   ]
  },
  {
   "cell_type": "code",
   "execution_count": 33,
   "metadata": {
    "collapsed": false
   },
   "outputs": [
    {
     "data": {
      "text/plain": [
       "{nan,\n",
       " '1-2 hours ',\n",
       " '2-3 hours ',\n",
       " '<1 hour ',\n",
       " 'More than 3 hours ',\n",
       " 'No ',\n",
       " 'Yes '}"
      ]
     },
     "execution_count": 33,
     "metadata": {},
     "output_type": "execute_result"
    }
   ],
   "source": [
    "# discover that....the value in lengthOfVisit has value should be in column 'Fee'....\n",
    "set(us_museum['LengthOfVisit'])"
   ]
  },
  {
   "cell_type": "markdown",
   "metadata": {},
   "source": [
    "### Data Merging, Cleaning and Adding New Features"
   ]
  },
  {
   "cell_type": "code",
   "execution_count": 52,
   "metadata": {
    "collapsed": false
   },
   "outputs": [
    {
     "name": "stdout",
     "output_type": "stream",
     "text": [
      "set([nan, '2-3 hours ', '<1 hour ', None, 'More than 3 hours ', '1-2 hours '])\n",
      "(1487, 13)\n"
     ]
    },
    {
     "data": {
      "text/plain": [
       "(1487, 16)"
      ]
     },
     "execution_count": 52,
     "metadata": {},
     "output_type": "execute_result"
    }
   ],
   "source": [
    "# drop the first column\n",
    "us_museum, w_museum = drop_first_column(us_museum, w_museum)\n",
    "\n",
    "# merge usa and world museum\n",
    "merged_df = merge_usa_world(us_museum, w_museum)\n",
    "nrows = merged_df.shape[0]\n",
    "\n",
    "# fix the lengthOfVsiit and fee value\n",
    "# merged_df = fix_fee_value(merged_df)\n",
    "# merged_df = merged_df.drop(merged_df.index[range(nrows, merged_df.shape[0])]) # drop exrta rows created\n",
    "# not sure why the function \"fix_fee_value\" wont work \n",
    "idx_no = merged_df[merged_df['LengthOfVisit'] == 'No '].index.tolist()\n",
    "idx_yes = merged_df[merged_df['LengthOfVisit'] == 'Yes '].index.tolist()\n",
    "df = merged_df.copy(deep = True)\n",
    "for idx in idx_no:\n",
    "    df.loc[idx,'LengthOfVisit'] = None\n",
    "for idx in idx_yes:\n",
    "    df.loc[idx,'LengthOfVisit'] = None\n",
    "merged_df = df.copy(deep = True)\n",
    "print set(merged_df['LengthOfVisit'])\n",
    "print merged_df.shape\n",
    "\n",
    "# convert string to number\n",
    "merged_df = string_to_num(merged_df, ['ReviewCount','TotalThingsToDo'])\n",
    "\n",
    "# add new feature \"Country\": USA or Other & \"State\": state name or Not_in_USA\n",
    "add_country_state(merged_df, state_name_lst)\n",
    "merged_df = merged_df.drop(merged_df.index[range(nrows, merged_df.shape[0])]) # drop exrta rows created\n",
    "\n",
    "# add feature 'RankPercentage'\n",
    "merged_df['RankPercentage'] = merged_df['Rank']*100/merged_df['TotalThingsToDo'] \n",
    "merged_df.shape # check the shape"
   ]
  },
  {
   "cell_type": "code",
   "execution_count": 53,
   "metadata": {
    "collapsed": false
   },
   "outputs": [],
   "source": [
    "# combind USA and world dictionaries\n",
    "category = append_two_dict(us_category, w_category)\n",
    "review = append_two_dict(us_review, w_review)\n",
    "quote = append_two_dict(us_quote, w_quote)\n",
    "tag_cloud = append_two_dict(us_tag_cloud, w_tag_cloud)\n",
    "traveler_type = append_two_dict(us_traveler_type, w_traveler_type)\n",
    "traveler_rating = append_two_dict(us_traveler_rating, w_traveler_rating)\n",
    "\n",
    "# convert all dictionaries from unicode to ascii\n",
    "category = encode_whole_dictionary(category)\n",
    "review = encode_whole_dictionary(review)\n",
    "quote = encode_whole_dictionary(quote)\n",
    "tag_cloud = encode_whole_dictionary(tag_cloud)\n",
    "traveler_type = encode_whole_dictionary(traveler_type)\n",
    "traveler_rating = encode_whole_dictionary(traveler_rating)\n",
    "\n",
    "# convert strings in dictionary to number\n",
    "traveler_type = dic_str_to_num(traveler_type)\n",
    "traveler_rating = dic_str_to_num(traveler_rating)"
   ]
  },
  {
   "cell_type": "code",
   "execution_count": 54,
   "metadata": {
    "collapsed": false
   },
   "outputs": [],
   "source": [
    "# add text-based features by assigning 1 or 0 \n",
    "# (if a museum matches or doesn't match the criteria)\n",
    "merged_df = add_category_feature(merged_df, category)\n",
    "merged_df = add_tags_feature(merged_df, tag_cloud)\n",
    "merged_df = add_traveler_type_count(merged_df)\n",
    "# merged_df = string_to_num(merged_df, ['Families_Count','Couples_Count', 'Solo_Count', 'Business_Count', 'Friends_Count'])"
   ]
  },
  {
   "cell_type": "code",
   "execution_count": 55,
   "metadata": {
    "collapsed": false
   },
   "outputs": [],
   "source": [
    "# calculate precise rating and add it as new column\n",
    "# yet to decide whether I should predict the displayed rating for precise rating...\n",
    "precise_rating_dic = get_precise_rating(merged_df, traveler_rating)\n",
    "merged_df = add_one_feature(merged_df, 'PreciseRating', precise_rating_dic)"
   ]
  },
  {
   "cell_type": "markdown",
   "metadata": {},
   "source": [
    "### Add More New Features - Sentiment Analysis Scores"
   ]
  },
  {
   "cell_type": "code",
   "execution_count": 56,
   "metadata": {
    "collapsed": true
   },
   "outputs": [],
   "source": [
    "# create description dictionary {museum name: description}\n",
    "description_dic = create_description_dic(merged_df)"
   ]
  },
  {
   "cell_type": "code",
   "execution_count": 57,
   "metadata": {
    "collapsed": false
   },
   "outputs": [],
   "source": [
    "# get sentiment scores for quote/review/description\n",
    "quote_polarity_dic, quote_subjectivity_dic = get_nested_sentiment(quote)\n",
    "review_polarity_dic, review_subjectivity_dic = get_nested_sentiment(review)\n",
    "des_polarity_dic, des_subjectivity_dic = get_text_sentiment(description_dic)"
   ]
  },
  {
   "cell_type": "code",
   "execution_count": 58,
   "metadata": {
    "collapsed": false
   },
   "outputs": [],
   "source": [
    "merged_df = add_multiple_score_feature(merged_df, 'quote_pol_', quote_polarity_dic)\n",
    "merged_df = add_multiple_score_feature(merged_df, 'quote_sub_', quote_subjectivity_dic)\n",
    "merged_df = add_multiple_score_feature(merged_df, 'review_pol_', review_polarity_dic)\n",
    "merged_df = add_multiple_score_feature(merged_df, 'review_sub_', review_subjectivity_dic)"
   ]
  },
  {
   "cell_type": "code",
   "execution_count": 59,
   "metadata": {
    "collapsed": false
   },
   "outputs": [],
   "source": [
    "# somehow the dictionary has a float('NaN') as key... remove the key from dictionary\n",
    "des_polarity_dic = clean_dic(des_polarity_dic)\n",
    "des_subjectivity_dic = clean_dic(des_subjectivity_dic)\n",
    "\n",
    "# add sentiment score of museum description as new features\n",
    "merged_df = add_one_feature(merged_df, 'descri_pol', des_polarity_dic)\n",
    "merged_df = add_one_feature(merged_df, 'descri_sub', des_subjectivity_dic)\n",
    "merged_df = merged_df.drop(merged_df.index[range(nrows, merged_df.shape[0])]) # drop exrta rows created"
   ]
  },
  {
   "cell_type": "code",
   "execution_count": 60,
   "metadata": {
    "collapsed": false
   },
   "outputs": [
    {
     "data": {
      "text/plain": [
       "(1487, 82)"
      ]
     },
     "execution_count": 60,
     "metadata": {},
     "output_type": "execute_result"
    }
   ],
   "source": [
    "merged_df.shape"
   ]
  },
  {
   "cell_type": "code",
   "execution_count": 61,
   "metadata": {
    "collapsed": false
   },
   "outputs": [],
   "source": [
    "merged_df.to_csv('tripadvisor_merged.csv')"
   ]
  },
  {
   "cell_type": "code",
   "execution_count": 62,
   "metadata": {
    "collapsed": false
   },
   "outputs": [
    {
     "data": {
      "text/plain": [
       "array(['Address', 'Description', 'FeatureCount', 'Fee', 'Langtitude',\n",
       "       'Latitude', 'LengthOfVisit', 'MuseumName', 'PhoneNum', 'Rank',\n",
       "       'Rating', 'ReviewCount', 'TotalThingsToDo', 'Country', 'State',\n",
       "       'RankPercentage', 'History Museums', 'Military Museums',\n",
       "       'Points of Interest & Landmarks', 'Natural History Museums',\n",
       "       'Art Museums', 'Historic Sites', 'Science Museums', 'Museums',\n",
       "       'Specialty Museums', 'Art Galleries', \"Children's Museums\",\n",
       "       'Sights & Landmarks', 'on display', 'gift shop', 'rainy day',\n",
       "       'all ages', 'couple of hours', 'special exhibits', 'few hours',\n",
       "       'permanent collection', 'two hours', 'exhibits', 'worth a visit',\n",
       "       'free admission', 'beautiful building', 'audio guide',\n",
       "       'well worth a visit', 'great collection', 'information',\n",
       "       'interactive exhibits', 'great for kids', 'hands on activities',\n",
       "       'interesting exhibits', 'great exhibits', 'entrance fee',\n",
       "       'great place to visit', 'well worth the visit', 'guided tour',\n",
       "       'amazing collection', 'traveling exhibits', 'interactive displays',\n",
       "       'whole family', 'Families_Count', 'Couples_Count', 'Solo_Count',\n",
       "       'Business_Count', 'Friends_Count', 'PreciseRating', 'quote_pol_var',\n",
       "       'quote_pol_mean', 'quote_pol_max', 'quote_pol_min', 'quote_sub_var',\n",
       "       'quote_sub_mean', 'quote_sub_max', 'quote_sub_min',\n",
       "       'review_pol_var', 'review_pol_mean', 'review_pol_max',\n",
       "       'review_pol_min', 'review_sub_var', 'review_sub_mean',\n",
       "       'review_sub_max', 'review_sub_min', 'descri_pol', 'descri_sub'], dtype=object)"
      ]
     },
     "execution_count": 62,
     "metadata": {},
     "output_type": "execute_result"
    }
   ],
   "source": [
    "merged_df.columns.values"
   ]
  },
  {
   "cell_type": "markdown",
   "metadata": {},
   "source": [
    "### Miscellaneous Note/Code"
   ]
  },
  {
   "cell_type": "code",
   "execution_count": 63,
   "metadata": {
    "collapsed": false
   },
   "outputs": [
    {
     "data": {
      "text/plain": [
       "'Feature_Name'"
      ]
     },
     "execution_count": 63,
     "metadata": {},
     "output_type": "execute_result"
    }
   ],
   "source": [
    "'Feature Name'.replace(' ', '_')"
   ]
  },
  {
   "cell_type": "code",
   "execution_count": 64,
   "metadata": {
    "collapsed": false,
    "scrolled": true
   },
   "outputs": [
    {
     "data": {
      "text/plain": [
       "[('on display', 751),\n",
       " ('gift shop', 405),\n",
       " ('rainy day', 281),\n",
       " ('all ages', 275),\n",
       " ('couple of hours', 268),\n",
       " ('special exhibits', 188),\n",
       " ('few hours', 167),\n",
       " ('permanent collection', 162),\n",
       " ('two hours', 158),\n",
       " ('exhibits', 155),\n",
       " ('worth a visit', 154),\n",
       " ('free admission', 151),\n",
       " ('beautiful building', 136),\n",
       " ('audio guide', 135),\n",
       " ('well worth a visit', 130),\n",
       " ('great collection', 125),\n",
       " ('information', 117),\n",
       " ('interactive exhibits', 112),\n",
       " ('great for kids', 111),\n",
       " ('hands on activities', 111),\n",
       " ('interesting exhibits', 109),\n",
       " ('great exhibits', 108),\n",
       " ('entrance fee', 104),\n",
       " ('great place to visit', 100),\n",
       " ('well worth the visit', 85),\n",
       " ('guided tour', 81),\n",
       " ('amazing collection', 81),\n",
       " ('traveling exhibits', 79),\n",
       " ('interactive displays', 79),\n",
       " ('whole family', 78)]"
      ]
     },
     "execution_count": 64,
     "metadata": {},
     "output_type": "execute_result"
    }
   ],
   "source": [
    "# data exploratory use\n",
    "tag_freq_lst = get_tag_cloud_lst(tag_cloud)\n",
    "target_tags = tag_freq_lst[0:30]\n",
    "target_tags"
   ]
  },
  {
   "cell_type": "code",
   "execution_count": 65,
   "metadata": {
    "collapsed": false
   },
   "outputs": [
    {
     "data": {
      "text/html": [
       "<div>\n",
       "<table border=\"1\" class=\"dataframe\">\n",
       "  <thead>\n",
       "    <tr style=\"text-align: right;\">\n",
       "      <th></th>\n",
       "      <th>museum</th>\n",
       "      <th>precise_rating</th>\n",
       "      <th>rating</th>\n",
       "    </tr>\n",
       "  </thead>\n",
       "  <tbody>\n",
       "    <tr>\n",
       "      <th>0</th>\n",
       "      <td>Newseum</td>\n",
       "      <td>4.471638</td>\n",
       "      <td>4.5</td>\n",
       "    </tr>\n",
       "    <tr>\n",
       "      <th>1</th>\n",
       "      <td>The Metropolitan Museum of Art</td>\n",
       "      <td>2.747520</td>\n",
       "      <td>5.0</td>\n",
       "    </tr>\n",
       "    <tr>\n",
       "      <th>2</th>\n",
       "      <td>The National WWII Museum</td>\n",
       "      <td>4.601754</td>\n",
       "      <td>5.0</td>\n",
       "    </tr>\n",
       "    <tr>\n",
       "      <th>3</th>\n",
       "      <td>Denver Museum of Nature &amp; Science</td>\n",
       "      <td>4.450138</td>\n",
       "      <td>4.5</td>\n",
       "    </tr>\n",
       "    <tr>\n",
       "      <th>4</th>\n",
       "      <td>Art Institute of Chicago</td>\n",
       "      <td>4.143376</td>\n",
       "      <td>5.0</td>\n",
       "    </tr>\n",
       "    <tr>\n",
       "      <th>5</th>\n",
       "      <td>The National 9/11 Memorial &amp; Museum</td>\n",
       "      <td>3.137601</td>\n",
       "      <td>4.5</td>\n",
       "    </tr>\n",
       "    <tr>\n",
       "      <th>6</th>\n",
       "      <td>Museum of Fine Arts</td>\n",
       "      <td>0.463276</td>\n",
       "      <td>4.5</td>\n",
       "    </tr>\n",
       "    <tr>\n",
       "      <th>7</th>\n",
       "      <td>The Field Museum</td>\n",
       "      <td>3.869613</td>\n",
       "      <td>4.5</td>\n",
       "    </tr>\n",
       "    <tr>\n",
       "      <th>8</th>\n",
       "      <td>Smithsonian National Museum of Natural History</td>\n",
       "      <td>3.784190</td>\n",
       "      <td>4.5</td>\n",
       "    </tr>\n",
       "    <tr>\n",
       "      <th>9</th>\n",
       "      <td>Smithsonian National Air and Space Museum</td>\n",
       "      <td>3.470940</td>\n",
       "      <td>4.5</td>\n",
       "    </tr>\n",
       "  </tbody>\n",
       "</table>\n",
       "</div>"
      ],
      "text/plain": [
       "                                           museum  precise_rating  rating\n",
       "0                                         Newseum        4.471638     4.5\n",
       "1                  The Metropolitan Museum of Art        2.747520     5.0\n",
       "2                        The National WWII Museum        4.601754     5.0\n",
       "3               Denver Museum of Nature & Science        4.450138     4.5\n",
       "4                        Art Institute of Chicago        4.143376     5.0\n",
       "5             The National 9/11 Memorial & Museum        3.137601     4.5\n",
       "6                             Museum of Fine Arts        0.463276     4.5\n",
       "7                                The Field Museum        3.869613     4.5\n",
       "8  Smithsonian National Museum of Natural History        3.784190     4.5\n",
       "9       Smithsonian National Air and Space Museum        3.470940     4.5"
      ]
     },
     "execution_count": 65,
     "metadata": {},
     "output_type": "execute_result"
    }
   ],
   "source": [
    "# However...I am not sure why precise ratings are so different from\n",
    "# the ratings displayed on Tripadvisor (maybe the metric is different?)\n",
    "test_df = pd.DataFrame({'precise_rating':merged_df['PreciseRating'], \n",
    "                        'rating': merged_df['Rating'], \n",
    "                        'museum': merged_df['MuseumName']})\n",
    "test_df.head(10)"
   ]
  },
  {
   "cell_type": "code",
   "execution_count": null,
   "metadata": {
    "collapsed": true
   },
   "outputs": [],
   "source": []
  }
 ],
 "metadata": {
  "anaconda-cloud": {},
  "kernelspec": {
   "display_name": "Python [Root]",
   "language": "python",
   "name": "Python [Root]"
  },
  "language_info": {
   "codemirror_mode": {
    "name": "ipython",
    "version": 2
   },
   "file_extension": ".py",
   "mimetype": "text/x-python",
   "name": "python",
   "nbconvert_exporter": "python",
   "pygments_lexer": "ipython2",
   "version": "2.7.12"
  }
 },
 "nbformat": 4,
 "nbformat_minor": 0
}
